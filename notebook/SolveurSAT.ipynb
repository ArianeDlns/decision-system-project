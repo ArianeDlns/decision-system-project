{
 "cells": [
  {
   "cell_type": "markdown",
   "metadata": {},
   "source": [
    "## Solveur SAT"
   ]
  },
  {
   "cell_type": "markdown",
   "metadata": {},
   "source": [
    "Télécharger glophersat.zip sur Edunao et le déziper."
   ]
  },
  {
   "cell_type": "code",
   "execution_count": 1,
   "metadata": {},
   "outputs": [],
   "source": [
    "#Set \n",
    "N = 3 #nombre de matière\n",
    "s = {x for x in range(N)}"
   ]
  },
  {
   "cell_type": "code",
   "execution_count": 2,
   "metadata": {},
   "outputs": [],
   "source": [
    "#Variable aplha\n",
    "alpha = []\n",
    "for i in range(0,N):\n",
    "    for k in range(0,21):\n",
    "        alpha.append((i,k)) # ==> donne tous les alpha i k \n",
    "\n",
    "#Dictionnaire alpha\n",
    "v2i_alpha = {v : i+1 for i,v in enumerate(alpha)} # à chaque variable associe un nombre\n",
    "A = len(v2i_alpha)\n"
   ]
  },
  {
   "cell_type": "code",
   "execution_count": 3,
   "metadata": {},
   "outputs": [
    {
     "name": "stdout",
     "output_type": "stream",
     "text": [
      "subsets\n",
      "[(), (0,), (1,), (2,), (0, 1), (0, 2), (1, 2), (0, 1, 2)]\n",
      "v2i_beta\n",
      "{(): 64, (0,): 65, (1,): 66, (2,): 67, (0, 1): 68, (0, 2): 69, (1, 2): 70, (0, 1, 2): 71}\n"
     ]
    }
   ],
   "source": [
    "from itertools import chain\n",
    "from itertools import combinations\n",
    "\n",
    "#Créer l'ensemble des subset \n",
    "def powerset(iterable): \n",
    "    s = list(iterable)\n",
    "    return( chain.from_iterable(combinations(s, r) for r in range(len(s)+1)) )\n",
    "\n",
    "#L'ensemble des subset \n",
    "subsets = list(powerset(s)) \n",
    "print('subsets')\n",
    "print(subsets)\n",
    "\n",
    "#Dictionnaire beta\n",
    "v2i_beta = {v : A+i+1 for i,v in enumerate(subsets)}\n",
    "print('v2i_beta')\n",
    "print(v2i_beta)"
   ]
  },
  {
   "cell_type": "code",
   "execution_count": 4,
   "metadata": {},
   "outputs": [],
   "source": [
    "#Clause 1\n",
    "clause_1 = []\n",
    "\n",
    "for i in range(0,N):\n",
    "    for k in range(0,21):\n",
    "        for j in range(k+1,20):\n",
    "            clause_1.append([-v2i_alpha[(i,k)], v2i_alpha[(i,j)]])\n",
    "\n",
    "#print(clause_1)\n",
    "         "
   ]
  },
  {
   "cell_type": "code",
   "execution_count": 5,
   "metadata": {},
   "outputs": [],
   "source": [
    "#Clause 2\n",
    "clause_2 = []\n",
    "\n",
    "for i in subsets:\n",
    "    C_prime = set(i)\n",
    "    for j in subsets:\n",
    "        C = set(j)\n",
    "        if C.issubset(C_prime):\n",
    "            clause_2.append((-v2i_beta[j], v2i_beta[i]))\n",
    "\n",
    "#print(clause_2)"
   ]
  },
  {
   "cell_type": "code",
   "execution_count": 6,
   "metadata": {},
   "outputs": [],
   "source": [
    "#Clause 3\n",
    "\n",
    "clause_3 = []\n",
    "\n",
    "for c in subsets:\n",
    "    C = set(c)\n",
    "    D = s.difference(C)\n",
    "    j = tuple(D)\n",
    "    alpha = []\n",
    "    for k in range(0,21):\n",
    "        for i in range(0,N):\n",
    "            if i in C:\n",
    "                alpha.append(v2i_alpha[(i,k)])\n",
    "    \n",
    "    clause_3.append((alpha,v2i_beta[j]))\n",
    "            \n",
    "#print(clause_3)"
   ]
  },
  {
   "cell_type": "code",
   "execution_count": 7,
   "metadata": {},
   "outputs": [],
   "source": [
    "clause_4 = []\n",
    "\n",
    "for c in subsets:\n",
    "    C = set(c)\n",
    "    j = tuple(C)\n",
    "    alpha = []\n",
    "    for k in range(0,21):\n",
    "        for i in range(0,N):\n",
    "            if i in C:\n",
    "                alpha.append(-v2i_alpha[(i,k)])\n",
    "    \n",
    "    clause_4.append((alpha,-v2i_beta[j]))\n",
    "\n",
    "#print(clause_4)"
   ]
  },
  {
   "cell_type": "code",
   "execution_count": 11,
   "metadata": {},
   "outputs": [],
   "source": [
    "#Construction du DIMCS et Résolution\n",
    "import itertools\n",
    "import subprocess\n",
    "\n",
    "i2v = dict(itertools.chain(v2i_alpha.items(), v2i_alpha.items()))\n",
    "\n",
    "def clauses_to_dimacs(clauses,numvar) :\n",
    "    dimacs = 'c This is it\\np cnf '+str(numvar)+' '+str(len(clauses))+'\\n'\n",
    "    for clause in clauses :\n",
    "        for atom in clause :\n",
    "            dimacs += str(atom) +' '\n",
    "        dimacs += '0\\n'\n",
    "    return dimacs\n",
    "\n",
    "def write_dimacs_file(dimacs, filename):\n",
    "    with open(filename, \"w\", newline=\"\") as cnf:\n",
    "        cnf.write(dimacs)\n",
    "\n",
    "#Attention à utiliser la vesion du solveur compatible avec votre système d'exploitation, mettre le solveur dans le même dossier que ce notebook        \n",
    "\n",
    "def exec_gophersat(filename, cmd = \"./gophersat-1.1.6.exe\", encoding = \"utf8\") :\n",
    "    result = subprocess.run([cmd, filename], stdout=subprocess.PIPE, check=True, encoding=encoding)\n",
    "    string = str(result.stdout)\n",
    "    lines = string.splitlines()\n",
    "\n",
    "    if lines[1] != \"s SATISFIABLE\":\n",
    "        return False, [], {}\n",
    "\n",
    "    model = lines[2][2:].split(\" \")\n",
    "\n",
    "    return True, [int(x) for x in model if int(x) != 0], { i2v[abs(int(v))] : int(v) > 0 for v in model if int(v)!=0} \n"
   ]
  },
  {
   "cell_type": "code",
   "execution_count": 12,
   "metadata": {},
   "outputs": [
    {
     "ename": "CalledProcessError",
     "evalue": "Command '['./gophersat-1.1.6.exe', 'workingfile.cnf']' returned non-zero exit status 1.",
     "output_type": "error",
     "traceback": [
      "\u001b[1;31m---------------------------------------------------------------------------\u001b[0m",
      "\u001b[1;31mCalledProcessError\u001b[0m                        Traceback (most recent call last)",
      "Input \u001b[1;32mIn [12]\u001b[0m, in \u001b[0;36m<module>\u001b[1;34m\u001b[0m\n\u001b[0;32m      4\u001b[0m myDimacs \u001b[38;5;241m=\u001b[39m clauses_to_dimacs(myClauses,\u001b[38;5;28mlen\u001b[39m(alpha))\n\u001b[0;32m      6\u001b[0m write_dimacs_file(myDimacs,\u001b[38;5;124m\"\u001b[39m\u001b[38;5;124mworkingfile.cnf\u001b[39m\u001b[38;5;124m\"\u001b[39m)\n\u001b[1;32m----> 7\u001b[0m res \u001b[38;5;241m=\u001b[39m \u001b[43mexec_gophersat\u001b[49m\u001b[43m(\u001b[49m\u001b[38;5;124;43m\"\u001b[39;49m\u001b[38;5;124;43mworkingfile.cnf\u001b[39;49m\u001b[38;5;124;43m\"\u001b[39;49m\u001b[43m)\u001b[49m\n\u001b[0;32m      9\u001b[0m \u001b[38;5;66;03m#Résultat\u001b[39;00m\n\u001b[0;32m     10\u001b[0m \u001b[38;5;28mprint\u001b[39m(res)\n",
      "Input \u001b[1;32mIn [11]\u001b[0m, in \u001b[0;36mexec_gophersat\u001b[1;34m(filename, cmd, encoding)\u001b[0m\n\u001b[0;32m     21\u001b[0m \u001b[38;5;28;01mdef\u001b[39;00m \u001b[38;5;21mexec_gophersat\u001b[39m(filename, cmd \u001b[38;5;241m=\u001b[39m \u001b[38;5;124m\"\u001b[39m\u001b[38;5;124m./gophersat-1.1.6.exe\u001b[39m\u001b[38;5;124m\"\u001b[39m, encoding \u001b[38;5;241m=\u001b[39m \u001b[38;5;124m\"\u001b[39m\u001b[38;5;124mutf8\u001b[39m\u001b[38;5;124m\"\u001b[39m) :\n\u001b[1;32m---> 22\u001b[0m     result \u001b[38;5;241m=\u001b[39m \u001b[43msubprocess\u001b[49m\u001b[38;5;241;43m.\u001b[39;49m\u001b[43mrun\u001b[49m\u001b[43m(\u001b[49m\u001b[43m[\u001b[49m\u001b[43mcmd\u001b[49m\u001b[43m,\u001b[49m\u001b[43m \u001b[49m\u001b[43mfilename\u001b[49m\u001b[43m]\u001b[49m\u001b[43m,\u001b[49m\u001b[43m \u001b[49m\u001b[43mstdout\u001b[49m\u001b[38;5;241;43m=\u001b[39;49m\u001b[43msubprocess\u001b[49m\u001b[38;5;241;43m.\u001b[39;49m\u001b[43mPIPE\u001b[49m\u001b[43m,\u001b[49m\u001b[43m \u001b[49m\u001b[43mcheck\u001b[49m\u001b[38;5;241;43m=\u001b[39;49m\u001b[38;5;28;43;01mTrue\u001b[39;49;00m\u001b[43m,\u001b[49m\u001b[43m \u001b[49m\u001b[43mencoding\u001b[49m\u001b[38;5;241;43m=\u001b[39;49m\u001b[43mencoding\u001b[49m\u001b[43m)\u001b[49m\n\u001b[0;32m     23\u001b[0m     string \u001b[38;5;241m=\u001b[39m \u001b[38;5;28mstr\u001b[39m(result\u001b[38;5;241m.\u001b[39mstdout)\n\u001b[0;32m     24\u001b[0m     lines \u001b[38;5;241m=\u001b[39m string\u001b[38;5;241m.\u001b[39msplitlines()\n",
      "File \u001b[1;32m~\\AppData\\Local\\Programs\\Python\\Python38\\lib\\subprocess.py:516\u001b[0m, in \u001b[0;36mrun\u001b[1;34m(input, capture_output, timeout, check, *popenargs, **kwargs)\u001b[0m\n\u001b[0;32m    514\u001b[0m     retcode \u001b[38;5;241m=\u001b[39m process\u001b[38;5;241m.\u001b[39mpoll()\n\u001b[0;32m    515\u001b[0m     \u001b[38;5;28;01mif\u001b[39;00m check \u001b[38;5;129;01mand\u001b[39;00m retcode:\n\u001b[1;32m--> 516\u001b[0m         \u001b[38;5;28;01mraise\u001b[39;00m CalledProcessError(retcode, process\u001b[38;5;241m.\u001b[39margs,\n\u001b[0;32m    517\u001b[0m                                  output\u001b[38;5;241m=\u001b[39mstdout, stderr\u001b[38;5;241m=\u001b[39mstderr)\n\u001b[0;32m    518\u001b[0m \u001b[38;5;28;01mreturn\u001b[39;00m CompletedProcess(process\u001b[38;5;241m.\u001b[39margs, retcode, stdout, stderr)\n",
      "\u001b[1;31mCalledProcessError\u001b[0m: Command '['./gophersat-1.1.6.exe', 'workingfile.cnf']' returned non-zero exit status 1."
     ]
    }
   ],
   "source": [
    "#Lancer la résolution\n",
    "\n",
    "myClauses= clause_1 + clause_2 + clause_3 + clause_4\n",
    "myDimacs = clauses_to_dimacs(myClauses,len(alpha))\n",
    "\n",
    "write_dimacs_file(myDimacs,\"workingfile.cnf\")\n",
    "res = exec_gophersat(\"workingfile.cnf\")\n",
    "\n",
    "#Résultat\n",
    "print(res)"
   ]
  },
  {
   "cell_type": "code",
   "execution_count": null,
   "metadata": {},
   "outputs": [],
   "source": []
  }
 ],
 "metadata": {
  "interpreter": {
   "hash": "344a18502c04fd15b1639be38b810faf68354d52e92749c585ad49c3fbc79e8b"
  },
  "kernelspec": {
   "display_name": "Python 3.8.10 64-bit",
   "language": "python",
   "name": "python3"
  },
  "language_info": {
   "codemirror_mode": {
    "name": "ipython",
    "version": 3
   },
   "file_extension": ".py",
   "mimetype": "text/x-python",
   "name": "python",
   "nbconvert_exporter": "python",
   "pygments_lexer": "ipython3",
   "version": "3.8.10"
  },
  "orig_nbformat": 4
 },
 "nbformat": 4,
 "nbformat_minor": 2
}
