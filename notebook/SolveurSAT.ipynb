{
 "cells": [
  {
   "cell_type": "markdown",
   "metadata": {},
   "source": [
    "## Solveur SAT"
   ]
  },
  {
   "cell_type": "markdown",
   "metadata": {},
   "source": [
    "Télécharger glophersat.zip sur Edunao et le déziper."
   ]
  },
  {
   "cell_type": "code",
   "execution_count": 1,
   "metadata": {},
   "outputs": [],
   "source": [
    "#Set \n",
    "N = 3 #nombre de matière\n",
    "s = {x for x in range(N)}"
   ]
  },
  {
   "cell_type": "code",
   "execution_count": 2,
   "metadata": {},
   "outputs": [],
   "source": [
    "#Variable aplha\n",
    "alpha = []\n",
    "for i in range(0,N):\n",
    "    for k in range(0,21):\n",
    "        alpha.append((i,k)) # ==> donne tous les alpha i k \n",
    "\n",
    "#Dictionnaire alpha\n",
    "v2i_alpha = {v : i+1 for i,v in enumerate(alpha)} # à chaque variable associe un nombre\n",
    "A = len(v2i_alpha)\n"
   ]
  },
  {
   "cell_type": "code",
   "execution_count": 3,
   "metadata": {},
   "outputs": [
    {
     "name": "stdout",
     "output_type": "stream",
     "text": [
      "subsets\n",
      "[(), (0,), (1,), (2,), (0, 1), (0, 2), (1, 2), (0, 1, 2)]\n",
      "v2i_beta\n",
      "{(): 64, (0,): 65, (1,): 66, (2,): 67, (0, 1): 68, (0, 2): 69, (1, 2): 70, (0, 1, 2): 71}\n"
     ]
    }
   ],
   "source": [
    "from itertools import chain\n",
    "from itertools import combinations\n",
    "\n",
    "#Créer l'ensemble des subset \n",
    "def powerset(iterable): \n",
    "    s = list(iterable)\n",
    "    return( chain.from_iterable(combinations(s, r) for r in range(len(s)+1)) )\n",
    "\n",
    "#L'ensemble des subset \n",
    "subsets = list(powerset(s)) \n",
    "print('subsets')\n",
    "print(subsets)\n",
    "\n",
    "#Dictionnaire beta\n",
    "v2i_beta = {v : A+i+1 for i,v in enumerate(subsets)}\n",
    "print('v2i_beta')\n",
    "print(v2i_beta)"
   ]
  },
  {
   "cell_type": "code",
   "execution_count": 10,
   "metadata": {},
   "outputs": [],
   "source": [
    "#Clause 1\n",
    "clause_1 = []\n",
    "\n",
    "for i in range(0,N):\n",
    "    for k in range(0,21):\n",
    "        for j in range(k+1,21):\n",
    "            clause_1.append([-v2i_alpha[(i,k)], v2i_alpha[(i,j)]])\n",
    "\n",
    "#print(clause_1)\n",
    "         "
   ]
  },
  {
   "cell_type": "code",
   "execution_count": 11,
   "metadata": {},
   "outputs": [],
   "source": [
    "#Clause 2\n",
    "clause_2 = []\n",
    "\n",
    "for i in subsets:\n",
    "    C_prime = set(i)\n",
    "    for j in subsets:\n",
    "        C = set(j)\n",
    "        if C.issubset(C_prime):\n",
    "            clause_2.append((-v2i_beta[j], v2i_beta[i]))\n",
    "\n",
    "#print(clause_2)"
   ]
  },
  {
   "cell_type": "code",
   "execution_count": 16,
   "metadata": {},
   "outputs": [
    {
     "name": "stdout",
     "output_type": "stream",
     "text": [
      "[[71], [1, 2, 3, 4, 5, 6, 7, 8, 9, 10, 11, 12, 13, 14, 15, 16, 17, 18, 19, 20, 21, 70], [22, 23, 24, 25, 26, 27, 28, 29, 30, 31, 32, 33, 34, 35, 36, 37, 38, 39, 40, 41, 42, 69], [43, 44, 45, 46, 47, 48, 49, 50, 51, 52, 53, 54, 55, 56, 57, 58, 59, 60, 61, 62, 63, 68], [1, 22, 2, 23, 3, 24, 4, 25, 5, 26, 6, 27, 7, 28, 8, 29, 9, 30, 10, 31, 11, 32, 12, 33, 13, 34, 14, 35, 15, 36, 16, 37, 17, 38, 18, 39, 19, 40, 20, 41, 21, 42, 67], [1, 43, 2, 44, 3, 45, 4, 46, 5, 47, 6, 48, 7, 49, 8, 50, 9, 51, 10, 52, 11, 53, 12, 54, 13, 55, 14, 56, 15, 57, 16, 58, 17, 59, 18, 60, 19, 61, 20, 62, 21, 63, 66], [22, 43, 23, 44, 24, 45, 25, 46, 26, 47, 27, 48, 28, 49, 29, 50, 30, 51, 31, 52, 32, 53, 33, 54, 34, 55, 35, 56, 36, 57, 37, 58, 38, 59, 39, 60, 40, 61, 41, 62, 42, 63, 65], [1, 22, 43, 2, 23, 44, 3, 24, 45, 4, 25, 46, 5, 26, 47, 6, 27, 48, 7, 28, 49, 8, 29, 50, 9, 30, 51, 10, 31, 52, 11, 32, 53, 12, 33, 54, 13, 34, 55, 14, 35, 56, 15, 36, 57, 16, 37, 58, 17, 38, 59, 18, 39, 60, 19, 40, 61, 20, 41, 62, 21, 42, 63, 64]]\n"
     ]
    }
   ],
   "source": [
    "#Clause 3\n",
    "\n",
    "clause_3 = []\n",
    "\n",
    "for c in subsets:\n",
    "    C = set(c)\n",
    "    D = s.difference(C)\n",
    "    j = tuple(D)\n",
    "    alpha = []\n",
    "    for k in range(0,21):\n",
    "        for i in range(0,N):\n",
    "            if i in C:\n",
    "                alpha.append(v2i_alpha[(i,k)])\n",
    "    \n",
    "    \n",
    "    clause_3.append(alpha+[v2i_beta[j]])\n",
    "            \n",
    "print(clause_3)"
   ]
  },
  {
   "cell_type": "code",
   "execution_count": 18,
   "metadata": {},
   "outputs": [
    {
     "name": "stdout",
     "output_type": "stream",
     "text": [
      "[[-64], [-1, -2, -3, -4, -5, -6, -7, -8, -9, -10, -11, -12, -13, -14, -15, -16, -17, -18, -19, -20, -21, -65], [-22, -23, -24, -25, -26, -27, -28, -29, -30, -31, -32, -33, -34, -35, -36, -37, -38, -39, -40, -41, -42, -66], [-43, -44, -45, -46, -47, -48, -49, -50, -51, -52, -53, -54, -55, -56, -57, -58, -59, -60, -61, -62, -63, -67], [-1, -22, -2, -23, -3, -24, -4, -25, -5, -26, -6, -27, -7, -28, -8, -29, -9, -30, -10, -31, -11, -32, -12, -33, -13, -34, -14, -35, -15, -36, -16, -37, -17, -38, -18, -39, -19, -40, -20, -41, -21, -42, -68], [-1, -43, -2, -44, -3, -45, -4, -46, -5, -47, -6, -48, -7, -49, -8, -50, -9, -51, -10, -52, -11, -53, -12, -54, -13, -55, -14, -56, -15, -57, -16, -58, -17, -59, -18, -60, -19, -61, -20, -62, -21, -63, -69], [-22, -43, -23, -44, -24, -45, -25, -46, -26, -47, -27, -48, -28, -49, -29, -50, -30, -51, -31, -52, -32, -53, -33, -54, -34, -55, -35, -56, -36, -57, -37, -58, -38, -59, -39, -60, -40, -61, -41, -62, -42, -63, -70], [-1, -22, -43, -2, -23, -44, -3, -24, -45, -4, -25, -46, -5, -26, -47, -6, -27, -48, -7, -28, -49, -8, -29, -50, -9, -30, -51, -10, -31, -52, -11, -32, -53, -12, -33, -54, -13, -34, -55, -14, -35, -56, -15, -36, -57, -16, -37, -58, -17, -38, -59, -18, -39, -60, -19, -40, -61, -20, -41, -62, -21, -42, -63, -71]]\n"
     ]
    }
   ],
   "source": [
    "clause_4 = []\n",
    "\n",
    "for c in subsets:\n",
    "    C = set(c)\n",
    "    j = tuple(C)\n",
    "    alpha = []\n",
    "    for k in range(0,21):\n",
    "        for i in range(0,N):\n",
    "            if i in C:\n",
    "                alpha.append(-v2i_alpha[(i,k)])\n",
    "    \n",
    "    clause_4.append(alpha+[-v2i_beta[j]])\n",
    "\n",
    "print(clause_4)"
   ]
  },
  {
   "cell_type": "code",
   "execution_count": 21,
   "metadata": {},
   "outputs": [],
   "source": [
    "#Construction du DIMCS et Résolution\n",
    "i2v = {}\n",
    "\n",
    "for i in range(len(v2i_alpha)):\n",
    "    i2v[i+1] = list(v2i_alpha.keys())[list(v2i_alpha.values()).index(i+1)]\n",
    "\n",
    "for i in range(len(v2i_beta)):\n",
    "    i2v[i+1+A] = list(v2i_beta.keys())[list(v2i_beta.values()).index(i+1+A)]\n",
    "\n",
    "import subprocess\n",
    "\n",
    "def clauses_to_dimacs(clauses,numvar) :\n",
    "    dimacs = 'c This is it\\np cnf '+str(numvar)+' '+str(len(clauses))+'\\n'\n",
    "    for clause in clauses :\n",
    "        for atom in clause :\n",
    "            dimacs += str(atom) +' '\n",
    "        dimacs += '0\\n'\n",
    "    return dimacs\n",
    "\n",
    "def write_dimacs_file(dimacs, filename):\n",
    "    with open(filename, \"w\", newline=\"\") as cnf:\n",
    "        cnf.write(dimacs)\n",
    "\n",
    "#Attention à utiliser la vesion du solveur compatible avec votre système d'exploitation, mettre le solveur dans le même dossier que ce notebook        \n",
    "\n",
    "def exec_gophersat(filename, cmd = \"./gophersat.exe\", encoding = \"utf8\") :\n",
    "    result = subprocess.run([cmd, filename], stdout=subprocess.PIPE, check=True, encoding=encoding)\n",
    "    string = str(result.stdout)\n",
    "    lines = string.splitlines()\n",
    "\n",
    "    if lines[1] != \"s SATISFIABLE\":\n",
    "        return False, [], {}\n",
    "\n",
    "    model = lines[2][2:].split(\" \")\n",
    "\n",
    "    return True, [int(x) for x in model if int(x) != 0], { i2v[abs(int(v))] : int(v) > 0 for v in model if int(v)!=0} \n"
   ]
  },
  {
   "cell_type": "code",
   "execution_count": 23,
   "metadata": {},
   "outputs": [
    {
     "name": "stdout",
     "output_type": "stream",
     "text": [
      "(True, [-1, -2, -3, -4, -5, -6, -7, -8, -9, -10, -11, -12, -13, -14, -15, -16, -17, -18, -19, -20, 21, -22, -23, -24, -25, -26, -27, -28, -29, -30, -31, -32, -33, -34, -35, -36, -37, -38, -39, -40, -41, 42, -43, -44, -45, -46, -47, -48, -49, -50, -51, -52, -53, -54, -55, -56, -57, -58, -59, -60, -61, -62, 63, -64, -65, -66, -67, -68, -69, -70, 71], {(0, 0): False, (0, 1): False, (0, 2): False, (0, 3): False, (0, 4): False, (0, 5): False, (0, 6): False, (0, 7): False, (0, 8): False, (0, 9): False, (0, 10): False, (0, 11): False, (0, 12): False, (0, 13): False, (0, 14): False, (0, 15): False, (0, 16): False, (0, 17): False, (0, 18): False, (0, 19): False, (0, 20): True, (1, 0): False, (1, 1): False, (1, 2): False, (1, 3): False, (1, 4): False, (1, 5): False, (1, 6): False, (1, 7): False, (1, 8): False, (1, 9): False, (1, 10): False, (1, 11): False, (1, 12): False, (1, 13): False, (1, 14): False, (1, 15): False, (1, 16): False, (1, 17): False, (1, 18): False, (1, 19): False, (1, 20): True, (2, 0): False, (2, 1): False, (2, 2): False, (2, 3): False, (2, 4): False, (2, 5): False, (2, 6): False, (2, 7): False, (2, 8): False, (2, 9): False, (2, 10): False, (2, 11): False, (2, 12): False, (2, 13): False, (2, 14): False, (2, 15): False, (2, 16): False, (2, 17): False, (2, 18): False, (2, 19): False, (2, 20): True, (): False, (0,): False, (1,): False, (2,): False, (0, 1, 2): True})\n"
     ]
    }
   ],
   "source": [
    "#Lancer la résolution\n",
    "\n",
    "myClauses= clause_1 + clause_2 + clause_3 + clause_4\n",
    "myDimacs = clauses_to_dimacs(myClauses,len(v2i_alpha)+len(v2i_beta))\n",
    "\n",
    "write_dimacs_file(myDimacs,\"./workingfile.cnf\")\n",
    "res = exec_gophersat(\"./workingfile.cnf\")\n",
    "\n",
    "#Résultat\n",
    "print(res)"
   ]
  }
 ],
 "metadata": {
  "interpreter": {
   "hash": "344a18502c04fd15b1639be38b810faf68354d52e92749c585ad49c3fbc79e8b"
  },
  "kernelspec": {
   "display_name": "Python 3.8.10 64-bit",
   "language": "python",
   "name": "python3"
  },
  "language_info": {
   "codemirror_mode": {
    "name": "ipython",
    "version": 3
   },
   "file_extension": ".py",
   "mimetype": "text/x-python",
   "name": "python",
   "nbconvert_exporter": "python",
   "pygments_lexer": "ipython3",
   "version": "3.9.7"
  },
  "orig_nbformat": 4
 },
 "nbformat": 4,
 "nbformat_minor": 2
}
