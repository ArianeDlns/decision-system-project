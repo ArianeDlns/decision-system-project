{
 "cells": [
  {
   "cell_type": "markdown",
   "metadata": {},
   "source": [
    "## Solveur SAT"
   ]
  },
  {
   "cell_type": "markdown",
   "metadata": {},
   "source": [
    "Télécharger glophersat.zip sur Edunao et le déziper."
   ]
  },
  {
   "cell_type": "code",
   "execution_count": 277,
   "metadata": {},
   "outputs": [],
   "source": [
    "#Set \n",
    "N = 3 #nombre de matière\n",
    "s = {x for x in range(N)}"
   ]
  },
  {
   "cell_type": "code",
   "execution_count": 278,
   "metadata": {},
   "outputs": [],
   "source": [
    "#Variable aplha\n",
    "alpha = []\n",
    "for i in range(0,N):\n",
    "    for k in range(0,21):\n",
    "        alpha.append((i,k)) # ==> donne tous les alpha i k \n",
    "\n",
    "#Dictionnaire alpha\n",
    "v2i_alpha = {v : i+1 for i,v in enumerate(alpha)} # à chaque variable associe un nombre\n",
    "A = len(v2i_alpha)\n"
   ]
  },
  {
   "cell_type": "code",
   "execution_count": 279,
   "metadata": {},
   "outputs": [
    {
     "name": "stdout",
     "output_type": "stream",
     "text": [
      "subsets\n",
      "[(), (0,), (1,), (2,), (0, 1), (0, 2), (1, 2), (0, 1, 2)]\n",
      "v2i_beta\n",
      "{(): 64, (0,): 65, (1,): 66, (2,): 67, (0, 1): 68, (0, 2): 69, (1, 2): 70, (0, 1, 2): 71}\n"
     ]
    }
   ],
   "source": [
    "from itertools import chain\n",
    "from itertools import combinations\n",
    "\n",
    "#Créer l'ensemble des subset \n",
    "def powerset(iterable): \n",
    "    s = list(iterable)\n",
    "    return( chain.from_iterable(combinations(s, r) for r in range(len(s)+1)) )\n",
    "\n",
    "#L'ensemble des subset \n",
    "subsets = list(powerset(s)) \n",
    "print('subsets')\n",
    "print(subsets)\n",
    "\n",
    "#Dictionnaire beta\n",
    "v2i_beta = {v : A+i+1 for i,v in enumerate(subsets)}\n",
    "print('v2i_beta')\n",
    "print(v2i_beta)"
   ]
  },
  {
   "cell_type": "code",
   "execution_count": 280,
   "metadata": {},
   "outputs": [],
   "source": [
    "#Clause 1\n",
    "clause_1 = []\n",
    "\n",
    "for i in range(0,N):\n",
    "    for k in range(0,21):\n",
    "        for j in range(k+1,21):\n",
    "            clause_1.append([-v2i_alpha[(i,k)], v2i_alpha[(i,j)]])\n",
    "\n",
    "#print(clause_1)\n",
    "         "
   ]
  },
  {
   "cell_type": "code",
   "execution_count": 281,
   "metadata": {},
   "outputs": [],
   "source": [
    "#Clause 2\n",
    "clause_2 = []\n",
    "\n",
    "for i in subsets:\n",
    "    C_prime = set(i)\n",
    "    for j in subsets:\n",
    "        C = set(j)\n",
    "        if C.issubset(C_prime):\n",
    "            clause_2.append([-v2i_beta[j], v2i_beta[i]])\n",
    "\n",
    "#print(clause_2)"
   ]
  },
  {
   "cell_type": "code",
   "execution_count": 282,
   "metadata": {},
   "outputs": [
    {
     "name": "stdout",
     "output_type": "stream",
     "text": [
      "[[71], [1, 2, 3, 4, 5, 6, 7, 8, 9, 10, 11, 12, 13, 14, 15, 16, 17, 18, 19, 20, 21, 70], [22, 23, 24, 25, 26, 27, 28, 29, 30, 31, 32, 33, 34, 35, 36, 37, 38, 39, 40, 41, 42, 69], [43, 44, 45, 46, 47, 48, 49, 50, 51, 52, 53, 54, 55, 56, 57, 58, 59, 60, 61, 62, 63, 68], [1, 22, 2, 23, 3, 24, 4, 25, 5, 26, 6, 27, 7, 28, 8, 29, 9, 30, 10, 31, 11, 32, 12, 33, 13, 34, 14, 35, 15, 36, 16, 37, 17, 38, 18, 39, 19, 40, 20, 41, 21, 42, 67], [1, 43, 2, 44, 3, 45, 4, 46, 5, 47, 6, 48, 7, 49, 8, 50, 9, 51, 10, 52, 11, 53, 12, 54, 13, 55, 14, 56, 15, 57, 16, 58, 17, 59, 18, 60, 19, 61, 20, 62, 21, 63, 66], [22, 43, 23, 44, 24, 45, 25, 46, 26, 47, 27, 48, 28, 49, 29, 50, 30, 51, 31, 52, 32, 53, 33, 54, 34, 55, 35, 56, 36, 57, 37, 58, 38, 59, 39, 60, 40, 61, 41, 62, 42, 63, 65], [1, 22, 43, 2, 23, 44, 3, 24, 45, 4, 25, 46, 5, 26, 47, 6, 27, 48, 7, 28, 49, 8, 29, 50, 9, 30, 51, 10, 31, 52, 11, 32, 53, 12, 33, 54, 13, 34, 55, 14, 35, 56, 15, 36, 57, 16, 37, 58, 17, 38, 59, 18, 39, 60, 19, 40, 61, 20, 41, 62, 21, 42, 63, 64]]\n"
     ]
    }
   ],
   "source": [
    "#Clause 3\n",
    "\n",
    "clause_3 = []\n",
    "\n",
    "for c in subsets:\n",
    "    C = set(c)\n",
    "    D = s.difference(C)\n",
    "    j = tuple(D)\n",
    "    alpha = []\n",
    "    for k in range(0,21):\n",
    "        for i in range(0,N):\n",
    "            if i in C:\n",
    "                alpha.append(v2i_alpha[(i,k)])\n",
    "    \n",
    "    \n",
    "    clause_3.append(alpha+[v2i_beta[j]])\n",
    "            \n",
    "print(clause_3)"
   ]
  },
  {
   "cell_type": "code",
   "execution_count": 283,
   "metadata": {},
   "outputs": [
    {
     "name": "stdout",
     "output_type": "stream",
     "text": [
      "[[-64], [-1, -2, -3, -4, -5, -6, -7, -8, -9, -10, -11, -12, -13, -14, -15, -16, -17, -18, -19, -20, -21, -65], [-22, -23, -24, -25, -26, -27, -28, -29, -30, -31, -32, -33, -34, -35, -36, -37, -38, -39, -40, -41, -42, -66], [-43, -44, -45, -46, -47, -48, -49, -50, -51, -52, -53, -54, -55, -56, -57, -58, -59, -60, -61, -62, -63, -67], [-1, -22, -2, -23, -3, -24, -4, -25, -5, -26, -6, -27, -7, -28, -8, -29, -9, -30, -10, -31, -11, -32, -12, -33, -13, -34, -14, -35, -15, -36, -16, -37, -17, -38, -18, -39, -19, -40, -20, -41, -21, -42, -68], [-1, -43, -2, -44, -3, -45, -4, -46, -5, -47, -6, -48, -7, -49, -8, -50, -9, -51, -10, -52, -11, -53, -12, -54, -13, -55, -14, -56, -15, -57, -16, -58, -17, -59, -18, -60, -19, -61, -20, -62, -21, -63, -69], [-22, -43, -23, -44, -24, -45, -25, -46, -26, -47, -27, -48, -28, -49, -29, -50, -30, -51, -31, -52, -32, -53, -33, -54, -34, -55, -35, -56, -36, -57, -37, -58, -38, -59, -39, -60, -40, -61, -41, -62, -42, -63, -70], [-1, -22, -43, -2, -23, -44, -3, -24, -45, -4, -25, -46, -5, -26, -47, -6, -27, -48, -7, -28, -49, -8, -29, -50, -9, -30, -51, -10, -31, -52, -11, -32, -53, -12, -33, -54, -13, -34, -55, -14, -35, -56, -15, -36, -57, -16, -37, -58, -17, -38, -59, -18, -39, -60, -19, -40, -61, -20, -41, -62, -21, -42, -63, -71]]\n"
     ]
    }
   ],
   "source": [
    "clause_4 = []\n",
    "\n",
    "for c in subsets:\n",
    "    C = set(c)\n",
    "    j = tuple(C)\n",
    "    alpha = []\n",
    "    for k in range(0,21):\n",
    "        for i in range(0,N):\n",
    "            if i in C:\n",
    "                alpha.append(-v2i_alpha[(i,k)])\n",
    "    \n",
    "    clause_4.append(alpha+[-v2i_beta[j]])\n",
    "\n",
    "print(clause_4)"
   ]
  },
  {
   "cell_type": "code",
   "execution_count": 284,
   "metadata": {},
   "outputs": [],
   "source": [
    "#Construction du DIMCS et Résolution\n",
    "i2v = {}\n",
    "\n",
    "for i in range(len(v2i_alpha)):\n",
    "    i2v[i+1] = list(v2i_alpha.keys())[list(v2i_alpha.values()).index(i+1)]\n",
    "\n",
    "for i in range(len(v2i_beta)):\n",
    "    i2v[i+1+A] = list(v2i_beta.keys())[list(v2i_beta.values()).index(i+1+A)]\n",
    "\n",
    "import subprocess\n",
    "\n",
    "def clauses_to_dimacs(clauses,numvar) :\n",
    "    dimacs = 'c This is it\\np cnf '+str(numvar)+' '+str(len(clauses))+'\\n'\n",
    "    for clause in clauses :\n",
    "        for atom in clause :\n",
    "            dimacs += str(atom) +' '\n",
    "        dimacs += '0\\n'\n",
    "    return dimacs\n",
    "\n",
    "def write_dimacs_file(dimacs, filename):\n",
    "    with open(filename, \"w\", newline=\"\") as cnf:\n",
    "        cnf.write(dimacs)\n",
    "\n",
    "#Attention à utiliser la vesion du solveur compatible avec votre système d'exploitation, mettre le solveur dans le même dossier que ce notebook        \n",
    "\n",
    "def exec_gophersat(filename, cmd = \"./gophersat.exe\", encoding = \"utf8\") :\n",
    "    result = subprocess.run([cmd, filename], stdout=subprocess.PIPE, check=True, encoding=encoding)\n",
    "    string = str(result.stdout)\n",
    "    lines = string.splitlines()\n",
    "\n",
    "    if lines[1] != \"s SATISFIABLE\":\n",
    "        return False, [], {}\n",
    "\n",
    "    model = lines[2][2:].split(\" \")\n",
    "\n",
    "    return True, [int(x) for x in model if int(x) != 0], { i2v[abs(int(v))] : int(v) > 0 for v in model if int(v)!=0} \n"
   ]
  },
  {
   "cell_type": "code",
   "execution_count": 285,
   "metadata": {},
   "outputs": [
    {
     "name": "stdout",
     "output_type": "stream",
     "text": [
      "(True, [-1, -2, -3, -4, -5, -6, -7, -8, -9, -10, -11, -12, -13, -14, -15, -16, -17, -18, -19, -20, 21, -22, -23, -24, -25, -26, -27, -28, -29, -30, -31, -32, -33, -34, -35, -36, -37, -38, -39, -40, -41, 42, -43, -44, -45, -46, -47, -48, -49, -50, -51, -52, -53, -54, -55, -56, -57, -58, -59, -60, -61, -62, 63, -64, -65, -66, -67, -68, -69, -70, 71], {(0, 0): False, (0, 1): False, (0, 2): False, (0, 3): False, (0, 4): False, (0, 5): False, (0, 6): False, (0, 7): False, (0, 8): False, (0, 9): False, (0, 10): False, (0, 11): False, (0, 12): False, (0, 13): False, (0, 14): False, (0, 15): False, (0, 16): False, (0, 17): False, (0, 18): False, (0, 19): False, (0, 20): True, (1, 0): False, (1, 1): False, (1, 2): False, (1, 3): False, (1, 4): False, (1, 5): False, (1, 6): False, (1, 7): False, (1, 8): False, (1, 9): False, (1, 10): False, (1, 11): False, (1, 12): False, (1, 13): False, (1, 14): False, (1, 15): False, (1, 16): False, (1, 17): False, (1, 18): False, (1, 19): False, (1, 20): True, (2, 0): False, (2, 1): False, (2, 2): False, (2, 3): False, (2, 4): False, (2, 5): False, (2, 6): False, (2, 7): False, (2, 8): False, (2, 9): False, (2, 10): False, (2, 11): False, (2, 12): False, (2, 13): False, (2, 14): False, (2, 15): False, (2, 16): False, (2, 17): False, (2, 18): False, (2, 19): False, (2, 20): True, (): False, (0,): False, (1,): False, (2,): False, (0, 1, 2): True})\n"
     ]
    }
   ],
   "source": [
    "#Lancer la résolution\n",
    "\n",
    "myClauses= clause_1 + clause_2 + clause_3 + clause_4\n",
    "myDimacs = clauses_to_dimacs(myClauses,len(v2i_alpha)+len(v2i_beta))\n",
    "\n",
    "write_dimacs_file(myDimacs,\"./workingfile.cnf\")\n",
    "res = exec_gophersat(\"./workingfile.cnf\")\n",
    "\n",
    "#Résultat\n",
    "print(res)"
   ]
  },
  {
   "cell_type": "markdown",
   "metadata": {},
   "source": [
    "SAT Solver Multi classes"
   ]
  },
  {
   "cell_type": "code",
   "execution_count": 379,
   "metadata": {},
   "outputs": [],
   "source": [
    "import sys\n",
    "sys.path.append('../')\n",
    "\n",
    "from generator import GradesGenerator"
   ]
  },
  {
   "cell_type": "code",
   "execution_count": 380,
   "metadata": {},
   "outputs": [],
   "source": [
    "size = 100\n",
    "nb_grades = 5\n",
    "noise = 0\n",
    "nb_class = 3\n",
    "\n",
    "s = {i for i in range(nb_grades)}\n",
    "\n",
    "gen = GradesGenerator(size=size, nb_grades=nb_grades,noise=noise, nb_class=nb_class)\n",
    "\n",
    "grades, admissions = gen.generate_grades()\n",
    "\n",
    "\n",
    "if nb_class == 1:\n",
    "    admissions = admissions.astype(int)\n"
   ]
  },
  {
   "cell_type": "code",
   "execution_count": 381,
   "metadata": {},
   "outputs": [],
   "source": [
    "#Variable aplha\n",
    "alpha = []\n",
    "for i in range(nb_grades):\n",
    "    for k in range(21):\n",
    "        for h in range(nb_class):\n",
    "            alpha.append((i,k,h)) # ==> donne tous les alpha i k h\n",
    "\n",
    "#Dictionnaire alpha\n",
    "v2i_alpha = {v : i+1 for i,v in enumerate(alpha)} # à chaque variable associe un nombre\n",
    "A = len(v2i_alpha)\n"
   ]
  },
  {
   "cell_type": "code",
   "execution_count": 382,
   "metadata": {},
   "outputs": [],
   "source": [
    "from itertools import chain\n",
    "from itertools import combinations\n",
    "\n",
    "#Créer l'ensemble des subset \n",
    "def powerset(iterable): \n",
    "    s = list(iterable)\n",
    "    return( chain.from_iterable(combinations(s, r) for r in range(len(s)+1)) )\n",
    "\n",
    "#L'ensemble des subset \n",
    "subsets = list(powerset(s)) \n",
    "\n",
    "\n",
    "#Dictionnaire beta\n",
    "v2i_beta = {v : A+i+1 for i,v in enumerate(subsets)}\n"
   ]
  },
  {
   "cell_type": "code",
   "execution_count": 383,
   "metadata": {},
   "outputs": [],
   "source": [
    "clause_1 = []\n",
    "\n",
    "for i in range(nb_grades):\n",
    "    for k in range(21):\n",
    "        for h in range(nb_class):\n",
    "            for j in range(k+1,21):\n",
    "                clause_1.append([-v2i_alpha[(i,k,h)], v2i_alpha[(i,j,h)]])"
   ]
  },
  {
   "cell_type": "code",
   "execution_count": 384,
   "metadata": {},
   "outputs": [],
   "source": [
    "clause_2 = []\n",
    "\n",
    "for i in subsets:\n",
    "    C_prime = set(i)\n",
    "    for j in subsets:\n",
    "        C = set(j)\n",
    "        if C.issubset(C_prime):\n",
    "            clause_2.append([-v2i_beta[j], v2i_beta[i]])"
   ]
  },
  {
   "cell_type": "code",
   "execution_count": 385,
   "metadata": {},
   "outputs": [],
   "source": [
    "clause_3 = []\n",
    "\n",
    "for c in subsets:\n",
    "    C = set(c)\n",
    "    D = s.difference(C)\n",
    "    j = tuple(D)\n",
    "    alpha = []\n",
    "    for st_idx, student in enumerate(grades):\n",
    "        for i in range(0,nb_grades):\n",
    "            if i in C and admissions[st_idx] < nb_class:\n",
    "                alpha.append(v2i_alpha[(i,student[i],admissions[st_idx])])\n",
    "\n",
    "    \n",
    "        clause_3.append(alpha+[v2i_beta[j]])\n"
   ]
  },
  {
   "cell_type": "code",
   "execution_count": 386,
   "metadata": {},
   "outputs": [],
   "source": [
    "clause_4 = []\n",
    "\n",
    "for c in subsets:\n",
    "    C = set(c)\n",
    "    j = tuple(C)\n",
    "    alpha = []\n",
    "    for st_idx,student in enumerate(grades):\n",
    "        for i in range(0,nb_grades):\n",
    "            if i in C and admissions[st_idx] < nb_class-1:\n",
    "                alpha.append(-v2i_alpha[(i,student[i],admissions[st_idx]+1)])\n",
    "    \n",
    "        clause_4.append(alpha+[-v2i_beta[j]])\n"
   ]
  },
  {
   "cell_type": "code",
   "execution_count": 387,
   "metadata": {},
   "outputs": [
    {
     "name": "stdout",
     "output_type": "stream",
     "text": [
      "[[1, -2], [1, -3], [2, -3], [64, -65], [64, -66], [65, -66], [127, -128], [127, -129], [128, -129], [190, -191], [190, -192], [191, -192], [253, -254], [253, -255], [254, -255], [4, -5], [4, -6], [5, -6], [67, -68], [67, -69], [68, -69], [130, -131], [130, -132], [131, -132], [193, -194], [193, -195], [194, -195], [256, -257], [256, -258], [257, -258], [7, -8], [7, -9], [8, -9], [70, -71], [70, -72], [71, -72], [133, -134], [133, -135], [134, -135], [196, -197], [196, -198], [197, -198], [259, -260], [259, -261], [260, -261], [10, -11], [10, -12], [11, -12], [73, -74], [73, -75], [74, -75], [136, -137], [136, -138], [137, -138], [199, -200], [199, -201], [200, -201], [262, -263], [262, -264], [263, -264], [13, -14], [13, -15], [14, -15], [76, -77], [76, -78], [77, -78], [139, -140], [139, -141], [140, -141], [202, -203], [202, -204], [203, -204], [265, -266], [265, -267], [266, -267], [16, -17], [16, -18], [17, -18], [79, -80], [79, -81], [80, -81], [142, -143], [142, -144], [143, -144], [205, -206], [205, -207], [206, -207], [268, -269], [268, -270], [269, -270], [19, -20], [19, -21], [20, -21], [82, -83], [82, -84], [83, -84], [145, -146], [145, -147], [146, -147], [208, -209], [208, -210], [209, -210], [271, -272], [271, -273], [272, -273], [22, -23], [22, -24], [23, -24], [85, -86], [85, -87], [86, -87], [148, -149], [148, -150], [149, -150], [211, -212], [211, -213], [212, -213], [274, -275], [274, -276], [275, -276], [25, -26], [25, -27], [26, -27], [88, -89], [88, -90], [89, -90], [151, -152], [151, -153], [152, -153], [214, -215], [214, -216], [215, -216], [277, -278], [277, -279], [278, -279], [28, -29], [28, -30], [29, -30], [91, -92], [91, -93], [92, -93], [154, -155], [154, -156], [155, -156], [217, -218], [217, -219], [218, -219], [280, -281], [280, -282], [281, -282], [31, -32], [31, -33], [32, -33], [94, -95], [94, -96], [95, -96], [157, -158], [157, -159], [158, -159], [220, -221], [220, -222], [221, -222], [283, -284], [283, -285], [284, -285], [34, -35], [34, -36], [35, -36], [97, -98], [97, -99], [98, -99], [160, -161], [160, -162], [161, -162], [223, -224], [223, -225], [224, -225], [286, -287], [286, -288], [287, -288], [37, -38], [37, -39], [38, -39], [100, -101], [100, -102], [101, -102], [163, -164], [163, -165], [164, -165], [226, -227], [226, -228], [227, -228], [289, -290], [289, -291], [290, -291], [40, -41], [40, -42], [41, -42], [103, -104], [103, -105], [104, -105], [166, -167], [166, -168], [167, -168], [229, -230], [229, -231], [230, -231], [292, -293], [292, -294], [293, -294], [43, -44], [43, -45], [44, -45], [106, -107], [106, -108], [107, -108], [169, -170], [169, -171], [170, -171], [232, -233], [232, -234], [233, -234], [295, -296], [295, -297], [296, -297], [46, -47], [46, -48], [47, -48], [109, -110], [109, -111], [110, -111], [172, -173], [172, -174], [173, -174], [235, -236], [235, -237], [236, -237], [298, -299], [298, -300], [299, -300], [49, -50], [49, -51], [50, -51], [112, -113], [112, -114], [113, -114], [175, -176], [175, -177], [176, -177], [238, -239], [238, -240], [239, -240], [301, -302], [301, -303], [302, -303], [52, -53], [52, -54], [53, -54], [115, -116], [115, -117], [116, -117], [178, -179], [178, -180], [179, -180], [241, -242], [241, -243], [242, -243], [304, -305], [304, -306], [305, -306], [55, -56], [55, -57], [56, -57], [118, -119], [118, -120], [119, -120], [181, -182], [181, -183], [182, -183], [244, -245], [244, -246], [245, -246], [307, -308], [307, -309], [308, -309], [58, -59], [58, -60], [59, -60], [121, -122], [121, -123], [122, -123], [184, -185], [184, -186], [185, -186], [247, -248], [247, -249], [248, -249], [310, -311], [310, -312], [311, -312], [61, -62], [61, -63], [62, -63], [124, -125], [124, -126], [125, -126], [187, -188], [187, -189], [188, -189], [250, -251], [250, -252], [251, -252], [313, -314], [313, -315], [314, -315]]\n"
     ]
    }
   ],
   "source": [
    "clause_5 = []\n",
    "\n",
    "for k in range(0,21):\n",
    "    for i in range(nb_grades):\n",
    "        for h in range(nb_class-1):\n",
    "            for j in range(h+1, nb_class):\n",
    "                clause_5.append([v2i_alpha[(i,k,h)],-v2i_alpha[(i,k,j)]])\n",
    "\n",
    "print(clause_5)\n"
   ]
  },
  {
   "cell_type": "code",
   "execution_count": 388,
   "metadata": {},
   "outputs": [],
   "source": [
    "#Construction du DIMCS et Résolution\n",
    "i2v = {}\n",
    "\n",
    "for i in range(len(v2i_alpha)):\n",
    "    i2v[i+1] = list(v2i_alpha.keys())[list(v2i_alpha.values()).index(i+1)]\n",
    "\n",
    "for i in range(len(v2i_beta)):\n",
    "    i2v[i+1+A] = list(v2i_beta.keys())[list(v2i_beta.values()).index(i+1+A)]\n",
    "\n",
    "import subprocess\n",
    "\n",
    "def clauses_to_dimacs(clauses,numvar) :\n",
    "    dimacs = 'c This is it\\np cnf '+str(numvar)+' '+str(len(clauses))+'\\n'\n",
    "    for clause in clauses :\n",
    "        for atom in clause :\n",
    "            dimacs += str(atom) +' '\n",
    "        dimacs += '0\\n'\n",
    "    return dimacs\n",
    "\n",
    "def write_dimacs_file(dimacs, filename):\n",
    "    with open(filename, \"w\", newline=\"\") as cnf:\n",
    "        cnf.write(dimacs)\n",
    "\n",
    "#Attention à utiliser la vesion du solveur compatible avec votre système d'exploitation, mettre le solveur dans le même dossier que ce notebook        \n",
    "\n",
    "def exec_gophersat(filename, cmd = \"./gophersat.exe\", encoding = \"utf8\") :\n",
    "    result = subprocess.run([cmd, filename], stdout=subprocess.PIPE, check=True, encoding=encoding)\n",
    "    string = str(result.stdout)\n",
    "    lines = string.splitlines()\n",
    "\n",
    "    if lines[1] != \"s SATISFIABLE\":\n",
    "        return False, [], {}\n",
    "\n",
    "    model = lines[2][2:].split(\" \")\n",
    "\n",
    "    return True, [int(x) for x in model if int(x) != 0], { i2v[abs(int(v))] : int(v) > 0 for v in model if int(v)!=0} \n"
   ]
  },
  {
   "cell_type": "code",
   "execution_count": 389,
   "metadata": {},
   "outputs": [
    {
     "name": "stdout",
     "output_type": "stream",
     "text": [
      "(True, [-1, -2, -3, 4, -5, -6, 7, -8, -9, 10, -11, -12, 13, -14, -15, 16, -17, -18, 19, -20, -21, 22, -23, -24, 25, -26, -27, 28, -29, -30, 31, -32, -33, 34, -35, -36, 37, -38, -39, 40, -41, -42, 43, -44, -45, 46, -47, -48, 49, -50, -51, 52, -53, -54, 55, -56, -57, 58, -59, -60, 61, -62, -63, 64, -65, -66, 67, -68, -69, 70, -71, -72, 73, -74, -75, 76, -77, -78, 79, -80, -81, 82, -83, -84, 85, -86, -87, 88, -89, -90, 91, -92, -93, 94, -95, -96, 97, -98, -99, 100, -101, -102, 103, -104, -105, 106, -107, -108, 109, -110, -111, 112, -113, -114, 115, -116, -117, 118, -119, -120, 121, -122, -123, 124, -125, -126, -127, -128, -129, -130, -131, -132, 133, -134, -135, 136, -137, -138, 139, -140, -141, 142, -143, -144, 145, -146, -147, 148, -149, -150, 151, -152, -153, 154, -155, -156, 157, -158, -159, 160, -161, -162, 163, -164, -165, 166, -167, -168, 169, -170, -171, 172, -173, -174, 175, -176, -177, 178, -179, -180, 181, -182, -183, 184, -185, -186, 187, -188, -189, -190, -191, -192, -193, -194, -195, -196, -197, -198, -199, -200, -201, -202, -203, -204, -205, -206, -207, -208, -209, -210, -211, -212, -213, -214, -215, -216, -217, -218, -219, -220, -221, -222, -223, -224, -225, -226, -227, -228, -229, -230, -231, -232, -233, -234, -235, -236, -237, -238, -239, -240, -241, -242, -243, 244, -245, -246, 247, -248, -249, 250, -251, -252, -253, -254, -255, -256, -257, -258, 259, -260, -261, 262, -263, -264, 265, -266, -267, 268, -269, -270, 271, -272, -273, 274, -275, -276, 277, -278, -279, 280, -281, -282, 283, -284, -285, 286, -287, -288, 289, -290, -291, 292, -293, -294, 295, -296, -297, 298, -299, -300, 301, -302, -303, 304, -305, -306, 307, -308, -309, 310, -311, -312, 313, -314, -315, -316, -317, -318, -319, -320, -321, -322, -323, -324, -325, -326, -327, -328, -329, -330, -331, -332, -333, -334, -335, -336, -337, -338, -339, -340, -341, -342, -343, -344, -345, -346, 347], {(0, 0, 0): False, (0, 0, 1): False, (0, 0, 2): False, (0, 1, 0): True, (0, 1, 1): False, (0, 1, 2): False, (0, 2, 0): True, (0, 2, 1): False, (0, 2, 2): False, (0, 3, 0): True, (0, 3, 1): False, (0, 3, 2): False, (0, 4, 0): True, (0, 4, 1): False, (0, 4, 2): False, (0, 5, 0): True, (0, 5, 1): False, (0, 5, 2): False, (0, 6, 0): True, (0, 6, 1): False, (0, 6, 2): False, (0, 7, 0): True, (0, 7, 1): False, (0, 7, 2): False, (0, 8, 0): True, (0, 8, 1): False, (0, 8, 2): False, (0, 9, 0): True, (0, 9, 1): False, (0, 9, 2): False, (0, 10, 0): True, (0, 10, 1): False, (0, 10, 2): False, (0, 11, 0): True, (0, 11, 1): False, (0, 11, 2): False, (0, 12, 0): True, (0, 12, 1): False, (0, 12, 2): False, (0, 13, 0): True, (0, 13, 1): False, (0, 13, 2): False, (0, 14, 0): True, (0, 14, 1): False, (0, 14, 2): False, (0, 15, 0): True, (0, 15, 1): False, (0, 15, 2): False, (0, 16, 0): True, (0, 16, 1): False, (0, 16, 2): False, (0, 17, 0): True, (0, 17, 1): False, (0, 17, 2): False, (0, 18, 0): True, (0, 18, 1): False, (0, 18, 2): False, (0, 19, 0): True, (0, 19, 1): False, (0, 19, 2): False, (0, 20, 0): True, (0, 20, 1): False, (0, 20, 2): False, (1, 0, 0): True, (1, 0, 1): False, (1, 0, 2): False, (1, 1, 0): True, (1, 1, 1): False, (1, 1, 2): False, (1, 2, 0): True, (1, 2, 1): False, (1, 2, 2): False, (1, 3, 0): True, (1, 3, 1): False, (1, 3, 2): False, (1, 4, 0): True, (1, 4, 1): False, (1, 4, 2): False, (1, 5, 0): True, (1, 5, 1): False, (1, 5, 2): False, (1, 6, 0): True, (1, 6, 1): False, (1, 6, 2): False, (1, 7, 0): True, (1, 7, 1): False, (1, 7, 2): False, (1, 8, 0): True, (1, 8, 1): False, (1, 8, 2): False, (1, 9, 0): True, (1, 9, 1): False, (1, 9, 2): False, (1, 10, 0): True, (1, 10, 1): False, (1, 10, 2): False, (1, 11, 0): True, (1, 11, 1): False, (1, 11, 2): False, (1, 12, 0): True, (1, 12, 1): False, (1, 12, 2): False, (1, 13, 0): True, (1, 13, 1): False, (1, 13, 2): False, (1, 14, 0): True, (1, 14, 1): False, (1, 14, 2): False, (1, 15, 0): True, (1, 15, 1): False, (1, 15, 2): False, (1, 16, 0): True, (1, 16, 1): False, (1, 16, 2): False, (1, 17, 0): True, (1, 17, 1): False, (1, 17, 2): False, (1, 18, 0): True, (1, 18, 1): False, (1, 18, 2): False, (1, 19, 0): True, (1, 19, 1): False, (1, 19, 2): False, (1, 20, 0): True, (1, 20, 1): False, (1, 20, 2): False, (2, 0, 0): False, (2, 0, 1): False, (2, 0, 2): False, (2, 1, 0): False, (2, 1, 1): False, (2, 1, 2): False, (2, 2, 0): True, (2, 2, 1): False, (2, 2, 2): False, (2, 3, 0): True, (2, 3, 1): False, (2, 3, 2): False, (2, 4, 0): True, (2, 4, 1): False, (2, 4, 2): False, (2, 5, 0): True, (2, 5, 1): False, (2, 5, 2): False, (2, 6, 0): True, (2, 6, 1): False, (2, 6, 2): False, (2, 7, 0): True, (2, 7, 1): False, (2, 7, 2): False, (2, 8, 0): True, (2, 8, 1): False, (2, 8, 2): False, (2, 9, 0): True, (2, 9, 1): False, (2, 9, 2): False, (2, 10, 0): True, (2, 10, 1): False, (2, 10, 2): False, (2, 11, 0): True, (2, 11, 1): False, (2, 11, 2): False, (2, 12, 0): True, (2, 12, 1): False, (2, 12, 2): False, (2, 13, 0): True, (2, 13, 1): False, (2, 13, 2): False, (2, 14, 0): True, (2, 14, 1): False, (2, 14, 2): False, (2, 15, 0): True, (2, 15, 1): False, (2, 15, 2): False, (2, 16, 0): True, (2, 16, 1): False, (2, 16, 2): False, (2, 17, 0): True, (2, 17, 1): False, (2, 17, 2): False, (2, 18, 0): True, (2, 18, 1): False, (2, 18, 2): False, (2, 19, 0): True, (2, 19, 1): False, (2, 19, 2): False, (2, 20, 0): True, (2, 20, 1): False, (2, 20, 2): False, (3, 0, 0): False, (3, 0, 1): False, (3, 0, 2): False, (3, 1, 0): False, (3, 1, 1): False, (3, 1, 2): False, (3, 2, 0): False, (3, 2, 1): False, (3, 2, 2): False, (3, 3, 0): False, (3, 3, 1): False, (3, 3, 2): False, (3, 4, 0): False, (3, 4, 1): False, (3, 4, 2): False, (3, 5, 0): False, (3, 5, 1): False, (3, 5, 2): False, (3, 6, 0): False, (3, 6, 1): False, (3, 6, 2): False, (3, 7, 0): False, (3, 7, 1): False, (3, 7, 2): False, (3, 8, 0): False, (3, 8, 1): False, (3, 8, 2): False, (3, 9, 0): False, (3, 9, 1): False, (3, 9, 2): False, (3, 10, 0): False, (3, 10, 1): False, (3, 10, 2): False, (3, 11, 0): False, (3, 11, 1): False, (3, 11, 2): False, (3, 12, 0): False, (3, 12, 1): False, (3, 12, 2): False, (3, 13, 0): False, (3, 13, 1): False, (3, 13, 2): False, (3, 14, 0): False, (3, 14, 1): False, (3, 14, 2): False, (3, 15, 0): False, (3, 15, 1): False, (3, 15, 2): False, (3, 16, 0): False, (3, 16, 1): False, (3, 16, 2): False, (3, 17, 0): False, (3, 17, 1): False, (3, 17, 2): False, (3, 18, 0): True, (3, 18, 1): False, (3, 18, 2): False, (3, 19, 0): True, (3, 19, 1): False, (3, 19, 2): False, (3, 20, 0): True, (3, 20, 1): False, (3, 20, 2): False, (4, 0, 0): False, (4, 0, 1): False, (4, 0, 2): False, (4, 1, 0): False, (4, 1, 1): False, (4, 1, 2): False, (4, 2, 0): True, (4, 2, 1): False, (4, 2, 2): False, (4, 3, 0): True, (4, 3, 1): False, (4, 3, 2): False, (4, 4, 0): True, (4, 4, 1): False, (4, 4, 2): False, (4, 5, 0): True, (4, 5, 1): False, (4, 5, 2): False, (4, 6, 0): True, (4, 6, 1): False, (4, 6, 2): False, (4, 7, 0): True, (4, 7, 1): False, (4, 7, 2): False, (4, 8, 0): True, (4, 8, 1): False, (4, 8, 2): False, (4, 9, 0): True, (4, 9, 1): False, (4, 9, 2): False, (4, 10, 0): True, (4, 10, 1): False, (4, 10, 2): False, (4, 11, 0): True, (4, 11, 1): False, (4, 11, 2): False, (4, 12, 0): True, (4, 12, 1): False, (4, 12, 2): False, (4, 13, 0): True, (4, 13, 1): False, (4, 13, 2): False, (4, 14, 0): True, (4, 14, 1): False, (4, 14, 2): False, (4, 15, 0): True, (4, 15, 1): False, (4, 15, 2): False, (4, 16, 0): True, (4, 16, 1): False, (4, 16, 2): False, (4, 17, 0): True, (4, 17, 1): False, (4, 17, 2): False, (4, 18, 0): True, (4, 18, 1): False, (4, 18, 2): False, (4, 19, 0): True, (4, 19, 1): False, (4, 19, 2): False, (4, 20, 0): True, (4, 20, 1): False, (4, 20, 2): False, (): False, (0,): False, (1,): False, (2,): False, (3,): False, (4,): False, (0, 1): False, (0, 2): False, (0, 3): False, (0, 4): False, (1, 2): False, (1, 3): False, (1, 4): False, (2, 3): False, (2, 4): False, (3, 4): False, (0, 1, 3): False, (0, 1, 4): False, (0, 2, 3): False, (0, 2, 4): False, (0, 3, 4): False, (1, 2, 3): False, (1, 2, 4): False, (1, 3, 4): False, (2, 3, 4): False, (0, 1, 2, 3): False, (0, 1, 2, 4): False, (0, 1, 3, 4): False, (0, 2, 3, 4): False, (1, 2, 3, 4): False, (0, 1, 2, 3, 4): True})\n"
     ]
    }
   ],
   "source": [
    "myClauses= clause_1 + clause_2 + clause_3 + clause_4 + clause_5\n",
    "myDimacs = clauses_to_dimacs(myClauses,len(v2i_alpha)+len(v2i_beta))\n",
    "\n",
    "write_dimacs_file(myDimacs,\"./workingfile_multi.cnf\")\n",
    "res = exec_gophersat(\"./workingfile_multi.cnf\")\n",
    "\n",
    "#Résultat\n",
    "print(res)"
   ]
  },
  {
   "cell_type": "code",
   "execution_count": 390,
   "metadata": {},
   "outputs": [],
   "source": [
    "_, variables_idx, d = res"
   ]
  },
  {
   "cell_type": "code",
   "execution_count": 392,
   "metadata": {},
   "outputs": [
    {
     "data": {
      "text/plain": [
       "0"
      ]
     },
     "execution_count": 392,
     "metadata": {},
     "output_type": "execute_result"
    }
   ],
   "source": [
    "predicted = []\n",
    "for student in grades:\n",
    "    h = 0\n",
    "    upgrade = True\n",
    "    while h < nb_class and upgrade:\n",
    "        for i, mark in enumerate(student):\n",
    "            t = []\n",
    "            if d[(i,mark,h)]:\n",
    "                t.append(i)\n",
    "        t = tuple(t)\n",
    "        if d[t]:\n",
    "            h+=1\n",
    "        else:\n",
    "            upgrade = False\n",
    "    predicted.append(h)\n",
    "\n",
    "\n",
    "        \n"
   ]
  }
 ],
 "metadata": {
  "interpreter": {
   "hash": "344a18502c04fd15b1639be38b810faf68354d52e92749c585ad49c3fbc79e8b"
  },
  "kernelspec": {
   "display_name": "Python 3.8.10 64-bit",
   "language": "python",
   "name": "python3"
  },
  "language_info": {
   "codemirror_mode": {
    "name": "ipython",
    "version": 3
   },
   "file_extension": ".py",
   "mimetype": "text/x-python",
   "name": "python",
   "nbconvert_exporter": "python",
   "pygments_lexer": "ipython3",
   "version": "3.9.7"
  },
  "orig_nbformat": 4
 },
 "nbformat": 4,
 "nbformat_minor": 2
}
