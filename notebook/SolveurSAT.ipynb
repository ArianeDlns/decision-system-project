{
 "cells": [
  {
   "cell_type": "markdown",
   "metadata": {},
   "source": [
    "## Solveur SAT"
   ]
  },
  {
   "cell_type": "markdown",
   "metadata": {},
   "source": [
    "Télécharger glophersat.zip sur Edunao et le déziper."
   ]
  },
  {
   "cell_type": "code",
   "execution_count": 1,
   "metadata": {},
   "outputs": [],
   "source": [
    "#Set \n",
    "N = 3 #nombre de matière\n",
    "s = {x for x in range(N)}"
   ]
  },
  {
   "cell_type": "code",
   "execution_count": 2,
   "metadata": {},
   "outputs": [],
   "source": [
    "#Variable aplha\n",
    "alpha = []\n",
    "for i in range(0,N):\n",
    "    for k in range(0,21):\n",
    "        alpha.append((i,k)) # ==> donne tous les alpha i k \n",
    "\n",
    "#Dictionnaire alpha\n",
    "v2i_alpha = {v : i+1 for i,v in enumerate(alpha)} # à chaque variable associe un nombre\n",
    "A = len(v2i_alpha)\n"
   ]
  },
  {
   "cell_type": "code",
   "execution_count": 3,
   "metadata": {},
   "outputs": [
    {
     "name": "stdout",
     "output_type": "stream",
     "text": [
      "subsets\n",
      "[(), (0,), (1,), (2,), (0, 1), (0, 2), (1, 2), (0, 1, 2)]\n",
      "v2i_beta\n",
      "{(): 64, (0,): 65, (1,): 66, (2,): 67, (0, 1): 68, (0, 2): 69, (1, 2): 70, (0, 1, 2): 71}\n"
     ]
    }
   ],
   "source": [
    "from itertools import chain\n",
    "from itertools import combinations\n",
    "\n",
    "#Créer l'ensemble des subset \n",
    "def powerset(iterable): \n",
    "    s = list(iterable)\n",
    "    return( chain.from_iterable(combinations(s, r) for r in range(len(s)+1)) )\n",
    "\n",
    "#L'ensemble des subset \n",
    "subsets = list(powerset(s)) \n",
    "print('subsets')\n",
    "print(subsets)\n",
    "\n",
    "#Dictionnaire beta\n",
    "v2i_beta = {v : A+i+1 for i,v in enumerate(subsets)}\n",
    "print('v2i_beta')\n",
    "print(v2i_beta)"
   ]
  },
  {
   "cell_type": "code",
   "execution_count": 4,
   "metadata": {},
   "outputs": [],
   "source": [
    "#Clause 1\n",
    "clause_1 = []\n",
    "\n",
    "for i in range(0,N):\n",
    "    for k in range(0,21):\n",
    "        for j in range(k+1,20):\n",
    "            clause_1.append([-v2i_alpha[(i,k)], v2i_alpha[(i,j)]])\n",
    "\n",
    "#print(clause_1)\n",
    "         "
   ]
  },
  {
   "cell_type": "code",
   "execution_count": 5,
   "metadata": {},
   "outputs": [],
   "source": [
    "#Clause 2\n",
    "clause_2 = []\n",
    "\n",
    "for i in subsets:\n",
    "    C_prime = set(i)\n",
    "    for j in subsets:\n",
    "        C = set(j)\n",
    "        if C.issubset(C_prime):\n",
    "            clause_2.append((-v2i_beta[j], v2i_beta[i]))\n",
    "\n",
    "#print(clause_2)"
   ]
  },
  {
   "cell_type": "code",
   "execution_count": 6,
   "metadata": {},
   "outputs": [],
   "source": [
    "#Clause 3\n",
    "\n",
    "clause_3 = []\n",
    "\n",
    "for c in subsets:\n",
    "    C = set(c)\n",
    "    D = s.difference(C)\n",
    "    j = tuple(D)\n",
    "    alpha = []\n",
    "    for k in range(0,21):\n",
    "        for i in range(0,N):\n",
    "            if i in C:\n",
    "                alpha.append(v2i_alpha[(i,k)])\n",
    "    \n",
    "    clause_3.append((alpha,v2i_beta[j]))\n",
    "            \n",
    "#print(clause_3)"
   ]
  },
  {
   "cell_type": "code",
   "execution_count": 7,
   "metadata": {},
   "outputs": [],
   "source": [
    "clause_4 = []\n",
    "\n",
    "for c in subsets:\n",
    "    C = set(c)\n",
    "    j = tuple(C)\n",
    "    alpha = []\n",
    "    for k in range(0,21):\n",
    "        for i in range(0,N):\n",
    "            if i in C:\n",
    "                alpha.append(-v2i_alpha[(i,k)])\n",
    "    \n",
    "    clause_4.append((alpha,-v2i_beta[j]))\n",
    "\n",
    "#print(clause_4)"
   ]
  },
  {
   "cell_type": "code",
   "execution_count": 14,
   "metadata": {},
   "outputs": [],
   "source": [
    "#Construction du DIMCS et Résolution\n",
    "i2v = {}\n",
    "\n",
    "for i in range(len(v2i_alpha)):\n",
    "    i2v[i+1] = list(v2i_alpha.keys())[list(v2i_alpha.values()).index(i+1)]\n",
    "\n",
    "for i in range(len(v2i_beta)):\n",
    "    i2v[i+1+A] = list(v2i_beta.keys())[list(v2i_beta.values()).index(i+1+A)]\n",
    "\n",
    "import subprocess\n",
    "\n",
    "def clauses_to_dimacs(clauses,numvar) :\n",
    "    dimacs = 'c This is it\\np cnf '+str(numvar)+' '+str(len(clauses))+'\\n'\n",
    "    for clause in clauses :\n",
    "        for atom in clause :\n",
    "            dimacs += str(atom) +' '\n",
    "        dimacs += '0\\n'\n",
    "    return dimacs\n",
    "\n",
    "def write_dimacs_file(dimacs, filename):\n",
    "    with open(filename, \"w\", newline=\"\") as cnf:\n",
    "        cnf.write(dimacs)\n",
    "\n",
    "#Attention à utiliser la vesion du solveur compatible avec votre système d'exploitation, mettre le solveur dans le même dossier que ce notebook        \n",
    "\n",
    "def exec_gophersat(filename, cmd = \"./gophersat.exe\", encoding = \"utf8\") :\n",
    "    result = subprocess.run([cmd, filename], stdout=subprocess.PIPE, check=True, encoding=encoding)\n",
    "    string = str(result.stdout)\n",
    "    lines = string.splitlines()\n",
    "\n",
    "    if lines[1] != \"s SATISFIABLE\":\n",
    "        return False, [], {}\n",
    "\n",
    "    model = lines[2][2:].split(\" \")\n",
    "\n",
    "    return True, [int(x) for x in model if int(x) != 0], { i2v[abs(int(v))] : int(v) > 0 for v in model if int(v)!=0} \n"
   ]
  },
  {
   "cell_type": "code",
   "execution_count": 16,
   "metadata": {},
   "outputs": [
    {
     "ename": "FileNotFoundError",
     "evalue": "[WinError 2] Le fichier spécifié est introuvable",
     "output_type": "error",
     "traceback": [
      "\u001b[1;31m---------------------------------------------------------------------------\u001b[0m",
      "\u001b[1;31mFileNotFoundError\u001b[0m                         Traceback (most recent call last)",
      "\u001b[1;32mC:\\Users\\SORLUC~1\\AppData\\Local\\Temp/ipykernel_15432/2017302194.py\u001b[0m in \u001b[0;36m<module>\u001b[1;34m\u001b[0m\n\u001b[0;32m      5\u001b[0m \u001b[1;33m\u001b[0m\u001b[0m\n\u001b[0;32m      6\u001b[0m \u001b[0mwrite_dimacs_file\u001b[0m\u001b[1;33m(\u001b[0m\u001b[0mmyDimacs\u001b[0m\u001b[1;33m,\u001b[0m\u001b[1;34m\"./workingfile.cnf\"\u001b[0m\u001b[1;33m)\u001b[0m\u001b[1;33m\u001b[0m\u001b[1;33m\u001b[0m\u001b[0m\n\u001b[1;32m----> 7\u001b[1;33m \u001b[0mres\u001b[0m \u001b[1;33m=\u001b[0m \u001b[0mexec_gophersat\u001b[0m\u001b[1;33m(\u001b[0m\u001b[1;34m\"./workingfile.cnf\"\u001b[0m\u001b[1;33m)\u001b[0m\u001b[1;33m\u001b[0m\u001b[1;33m\u001b[0m\u001b[0m\n\u001b[0m\u001b[0;32m      8\u001b[0m \u001b[1;33m\u001b[0m\u001b[0m\n\u001b[0;32m      9\u001b[0m \u001b[1;31m#Résultat\u001b[0m\u001b[1;33m\u001b[0m\u001b[1;33m\u001b[0m\u001b[0m\n",
      "\u001b[1;32mC:\\Users\\SORLUC~1\\AppData\\Local\\Temp/ipykernel_15432/353097009.py\u001b[0m in \u001b[0;36mexec_gophersat\u001b[1;34m(filename, cmd, encoding)\u001b[0m\n\u001b[0;32m     25\u001b[0m \u001b[1;33m\u001b[0m\u001b[0m\n\u001b[0;32m     26\u001b[0m \u001b[1;32mdef\u001b[0m \u001b[0mexec_gophersat\u001b[0m\u001b[1;33m(\u001b[0m\u001b[0mfilename\u001b[0m\u001b[1;33m,\u001b[0m \u001b[0mcmd\u001b[0m \u001b[1;33m=\u001b[0m \u001b[1;34m\"./gophersat.exe\"\u001b[0m\u001b[1;33m,\u001b[0m \u001b[0mencoding\u001b[0m \u001b[1;33m=\u001b[0m \u001b[1;34m\"utf8\"\u001b[0m\u001b[1;33m)\u001b[0m \u001b[1;33m:\u001b[0m\u001b[1;33m\u001b[0m\u001b[1;33m\u001b[0m\u001b[0m\n\u001b[1;32m---> 27\u001b[1;33m     \u001b[0mresult\u001b[0m \u001b[1;33m=\u001b[0m \u001b[0msubprocess\u001b[0m\u001b[1;33m.\u001b[0m\u001b[0mrun\u001b[0m\u001b[1;33m(\u001b[0m\u001b[1;33m[\u001b[0m\u001b[0mcmd\u001b[0m\u001b[1;33m,\u001b[0m \u001b[0mfilename\u001b[0m\u001b[1;33m]\u001b[0m\u001b[1;33m,\u001b[0m \u001b[0mstdout\u001b[0m\u001b[1;33m=\u001b[0m\u001b[0msubprocess\u001b[0m\u001b[1;33m.\u001b[0m\u001b[0mPIPE\u001b[0m\u001b[1;33m,\u001b[0m \u001b[0mcheck\u001b[0m\u001b[1;33m=\u001b[0m\u001b[1;32mTrue\u001b[0m\u001b[1;33m,\u001b[0m \u001b[0mencoding\u001b[0m\u001b[1;33m=\u001b[0m\u001b[0mencoding\u001b[0m\u001b[1;33m)\u001b[0m\u001b[1;33m\u001b[0m\u001b[1;33m\u001b[0m\u001b[0m\n\u001b[0m\u001b[0;32m     28\u001b[0m     \u001b[0mstring\u001b[0m \u001b[1;33m=\u001b[0m \u001b[0mstr\u001b[0m\u001b[1;33m(\u001b[0m\u001b[0mresult\u001b[0m\u001b[1;33m.\u001b[0m\u001b[0mstdout\u001b[0m\u001b[1;33m)\u001b[0m\u001b[1;33m\u001b[0m\u001b[1;33m\u001b[0m\u001b[0m\n\u001b[0;32m     29\u001b[0m     \u001b[0mlines\u001b[0m \u001b[1;33m=\u001b[0m \u001b[0mstring\u001b[0m\u001b[1;33m.\u001b[0m\u001b[0msplitlines\u001b[0m\u001b[1;33m(\u001b[0m\u001b[1;33m)\u001b[0m\u001b[1;33m\u001b[0m\u001b[1;33m\u001b[0m\u001b[0m\n",
      "\u001b[1;32m~\\AppData\\Local\\Programs\\Python\\Python39\\lib\\subprocess.py\u001b[0m in \u001b[0;36mrun\u001b[1;34m(input, capture_output, timeout, check, *popenargs, **kwargs)\u001b[0m\n\u001b[0;32m    503\u001b[0m         \u001b[0mkwargs\u001b[0m\u001b[1;33m[\u001b[0m\u001b[1;34m'stderr'\u001b[0m\u001b[1;33m]\u001b[0m \u001b[1;33m=\u001b[0m \u001b[0mPIPE\u001b[0m\u001b[1;33m\u001b[0m\u001b[1;33m\u001b[0m\u001b[0m\n\u001b[0;32m    504\u001b[0m \u001b[1;33m\u001b[0m\u001b[0m\n\u001b[1;32m--> 505\u001b[1;33m     \u001b[1;32mwith\u001b[0m \u001b[0mPopen\u001b[0m\u001b[1;33m(\u001b[0m\u001b[1;33m*\u001b[0m\u001b[0mpopenargs\u001b[0m\u001b[1;33m,\u001b[0m \u001b[1;33m**\u001b[0m\u001b[0mkwargs\u001b[0m\u001b[1;33m)\u001b[0m \u001b[1;32mas\u001b[0m \u001b[0mprocess\u001b[0m\u001b[1;33m:\u001b[0m\u001b[1;33m\u001b[0m\u001b[1;33m\u001b[0m\u001b[0m\n\u001b[0m\u001b[0;32m    506\u001b[0m         \u001b[1;32mtry\u001b[0m\u001b[1;33m:\u001b[0m\u001b[1;33m\u001b[0m\u001b[1;33m\u001b[0m\u001b[0m\n\u001b[0;32m    507\u001b[0m             \u001b[0mstdout\u001b[0m\u001b[1;33m,\u001b[0m \u001b[0mstderr\u001b[0m \u001b[1;33m=\u001b[0m \u001b[0mprocess\u001b[0m\u001b[1;33m.\u001b[0m\u001b[0mcommunicate\u001b[0m\u001b[1;33m(\u001b[0m\u001b[0minput\u001b[0m\u001b[1;33m,\u001b[0m \u001b[0mtimeout\u001b[0m\u001b[1;33m=\u001b[0m\u001b[0mtimeout\u001b[0m\u001b[1;33m)\u001b[0m\u001b[1;33m\u001b[0m\u001b[1;33m\u001b[0m\u001b[0m\n",
      "\u001b[1;32m~\\AppData\\Local\\Programs\\Python\\Python39\\lib\\subprocess.py\u001b[0m in \u001b[0;36m__init__\u001b[1;34m(self, args, bufsize, executable, stdin, stdout, stderr, preexec_fn, close_fds, shell, cwd, env, universal_newlines, startupinfo, creationflags, restore_signals, start_new_session, pass_fds, user, group, extra_groups, encoding, errors, text, umask)\u001b[0m\n\u001b[0;32m    949\u001b[0m                             encoding=encoding, errors=errors)\n\u001b[0;32m    950\u001b[0m \u001b[1;33m\u001b[0m\u001b[0m\n\u001b[1;32m--> 951\u001b[1;33m             self._execute_child(args, executable, preexec_fn, close_fds,\n\u001b[0m\u001b[0;32m    952\u001b[0m                                 \u001b[0mpass_fds\u001b[0m\u001b[1;33m,\u001b[0m \u001b[0mcwd\u001b[0m\u001b[1;33m,\u001b[0m \u001b[0menv\u001b[0m\u001b[1;33m,\u001b[0m\u001b[1;33m\u001b[0m\u001b[1;33m\u001b[0m\u001b[0m\n\u001b[0;32m    953\u001b[0m                                 \u001b[0mstartupinfo\u001b[0m\u001b[1;33m,\u001b[0m \u001b[0mcreationflags\u001b[0m\u001b[1;33m,\u001b[0m \u001b[0mshell\u001b[0m\u001b[1;33m,\u001b[0m\u001b[1;33m\u001b[0m\u001b[1;33m\u001b[0m\u001b[0m\n",
      "\u001b[1;32m~\\AppData\\Local\\Programs\\Python\\Python39\\lib\\subprocess.py\u001b[0m in \u001b[0;36m_execute_child\u001b[1;34m(self, args, executable, preexec_fn, close_fds, pass_fds, cwd, env, startupinfo, creationflags, shell, p2cread, p2cwrite, c2pread, c2pwrite, errread, errwrite, unused_restore_signals, unused_gid, unused_gids, unused_uid, unused_umask, unused_start_new_session)\u001b[0m\n\u001b[0;32m   1418\u001b[0m             \u001b[1;31m# Start the process\u001b[0m\u001b[1;33m\u001b[0m\u001b[1;33m\u001b[0m\u001b[0m\n\u001b[0;32m   1419\u001b[0m             \u001b[1;32mtry\u001b[0m\u001b[1;33m:\u001b[0m\u001b[1;33m\u001b[0m\u001b[1;33m\u001b[0m\u001b[0m\n\u001b[1;32m-> 1420\u001b[1;33m                 hp, ht, pid, tid = _winapi.CreateProcess(executable, args,\n\u001b[0m\u001b[0;32m   1421\u001b[0m                                          \u001b[1;31m# no special security\u001b[0m\u001b[1;33m\u001b[0m\u001b[1;33m\u001b[0m\u001b[0m\n\u001b[0;32m   1422\u001b[0m                                          \u001b[1;32mNone\u001b[0m\u001b[1;33m,\u001b[0m \u001b[1;32mNone\u001b[0m\u001b[1;33m,\u001b[0m\u001b[1;33m\u001b[0m\u001b[1;33m\u001b[0m\u001b[0m\n",
      "\u001b[1;31mFileNotFoundError\u001b[0m: [WinError 2] Le fichier spécifié est introuvable"
     ]
    }
   ],
   "source": [
    "#Lancer la résolution\n",
    "\n",
    "myClauses= clause_1 + clause_2 + clause_3 + clause_4\n",
    "myDimacs = clauses_to_dimacs(myClauses,len(alpha))\n",
    "\n",
    "write_dimacs_file(myDimacs,\"./workingfile.cnf\")\n",
    "res = exec_gophersat(\"./workingfile.cnf\")\n",
    "\n",
    "#Résultat\n",
    "print(res)"
   ]
  }
 ],
 "metadata": {
  "interpreter": {
   "hash": "344a18502c04fd15b1639be38b810faf68354d52e92749c585ad49c3fbc79e8b"
  },
  "kernelspec": {
   "display_name": "Python 3.8.10 64-bit",
   "language": "python",
   "name": "python3"
  },
  "language_info": {
   "codemirror_mode": {
    "name": "ipython",
    "version": 3
   },
   "file_extension": ".py",
   "mimetype": "text/x-python",
   "name": "python",
   "nbconvert_exporter": "python",
   "pygments_lexer": "ipython3",
   "version": "3.9.7"
  },
  "orig_nbformat": 4
 },
 "nbformat": 4,
 "nbformat_minor": 2
}
